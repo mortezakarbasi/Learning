{
 "cells": [
  {
   "cell_type": "markdown",
   "id": "d86f73e2-5adb-4612-9ab1-ba2ae453243a",
   "metadata": {},
   "source": [
    "# Module 1"
   ]
  },
  {
   "cell_type": "markdown",
   "id": "bc70502a-2b2b-4cff-896d-d7f806b04dd9",
   "metadata": {},
   "source": [
    "# Module 2"
   ]
  },
  {
   "cell_type": "markdown",
   "id": "f16d980b-2dc8-40a1-93c2-f4916abfa403",
   "metadata": {},
   "source": [
    "## Lecuture 3.1"
   ]
  },
  {
   "cell_type": "markdown",
   "id": "01e55145-f745-4ed9-bfcc-3e1f0e34fec4",
   "metadata": {
    "jp-MarkdownHeadingCollapsed": true
   },
   "source": [
    "### Data Structures part 1"
   ]
  },
  {
   "cell_type": "markdown",
   "id": "8a730efd-4d4a-4112-8aeb-d6900d798b36",
   "metadata": {},
   "source": [
    "#### list"
   ]
  },
  {
   "cell_type": "code",
   "execution_count": null,
   "id": "75985280-6b11-4987-87b9-fc73814241c2",
   "metadata": {},
   "outputs": [],
   "source": [
    "# list can have mulitple diffenernt type of variables."
   ]
  },
  {
   "cell_type": "code",
   "execution_count": 36,
   "id": "8473bff7-201b-4942-aeef-261fd9828ab3",
   "metadata": {},
   "outputs": [],
   "source": [
    "gene_expression = ['gene', 5.16e-08, 0.000138511, 7.33e-08]"
   ]
  },
  {
   "cell_type": "code",
   "execution_count": 6,
   "id": "701c70f8-8c6a-462b-834f-ea6ad34bdbfd",
   "metadata": {},
   "outputs": [
    {
     "data": {
      "text/plain": [
       "0.000138511"
      ]
     },
     "execution_count": 6,
     "metadata": {},
     "output_type": "execute_result"
    }
   ],
   "source": [
    "gene_expression[2]"
   ]
  },
  {
   "cell_type": "code",
   "execution_count": 8,
   "id": "be95f93e-e336-4e19-aad4-aac675a2d987",
   "metadata": {},
   "outputs": [
    {
     "name": "stdout",
     "output_type": "stream",
     "text": [
      "['Lif', 5.16e-08, 0.000138511, 7.33e-08]\n"
     ]
    }
   ],
   "source": [
    "# modifiying list\n",
    "gene_expression[0] = 'Lif'\n",
    "print(gene_expression)"
   ]
  },
  {
   "cell_type": "code",
   "execution_count": 12,
   "id": "f03f3a6b-63ba-4a56-9d59-d85d37ee34d7",
   "metadata": {},
   "outputs": [
    {
     "data": {
      "text/plain": [
       "'n'"
      ]
     },
     "execution_count": 12,
     "metadata": {},
     "output_type": "execute_result"
    }
   ],
   "source": [
    "# note don't change an element in a string.\n",
    "motif = 'nacggggtc'\n",
    "motif[0]\n",
    "# motif[0] = 'a'\n",
    "# staings are immuatble data type unlinke list that is a mutable datatype"
   ]
  },
  {
   "cell_type": "code",
   "execution_count": 21,
   "id": "8e025e96-7914-4409-99a8-facf3b961464",
   "metadata": {},
   "outputs": [
    {
     "name": "stdout",
     "output_type": "stream",
     "text": [
      "[6.09e-07]\n",
      "[]\n"
     ]
    }
   ],
   "source": [
    "# slicing list\n",
    "gene_expression[-3:]\n",
    "gene_expression[:]\n",
    "# assignment to slices is aloso possible, and this can change the list:\n",
    "gene_expression[1:3] = [6.09e-07]\n",
    "print(gene_expression)\n",
    "# how to clears the list\n",
    "gene_expression[:] = [] # this clears the list\n",
    "print(gene_expression)"
   ]
  },
  {
   "cell_type": "code",
   "execution_count": 37,
   "id": "1a60412e-31ec-405d-a6a2-a8a3f7a3a975",
   "metadata": {},
   "outputs": [
    {
     "data": {
      "text/plain": [
       "['gene', 5.16e-08, 0.000138511, 7.33e-08, 5.16e-08, 7.33e-08]"
      ]
     },
     "execution_count": 37,
     "metadata": {},
     "output_type": "execute_result"
    }
   ],
   "source": [
    "# how to concatenate the list\n",
    "gene_expression + [5.16e-08,7.33e-08]"
   ]
  },
  {
   "cell_type": "code",
   "execution_count": 27,
   "id": "b460d4b3-0371-4e31-b643-59892d8df884",
   "metadata": {},
   "outputs": [
    {
     "data": {
      "text/plain": [
       "4"
      ]
     },
     "execution_count": 27,
     "metadata": {},
     "output_type": "execute_result"
    }
   ],
   "source": [
    "# how to get length of the list\n",
    "len(gene_expression)"
   ]
  },
  {
   "cell_type": "code",
   "execution_count": 38,
   "id": "cb78b90f-99ea-49b5-9bb9-f5f3966d466d",
   "metadata": {},
   "outputs": [
    {
     "name": "stdout",
     "output_type": "stream",
     "text": [
      "['gene', 5.16e-08, 0.000138511, 7.33e-08]\n"
     ]
    },
    {
     "data": {
      "text/plain": [
       "['gene', 0.000138511, 7.33e-08]"
      ]
     },
     "execution_count": 38,
     "metadata": {},
     "output_type": "execute_result"
    }
   ],
   "source": [
    "print(gene_expression)\n",
    "del gene_expression[1]\n",
    "gene_expression"
   ]
  },
  {
   "cell_type": "code",
   "execution_count": 45,
   "id": "4990ff98-c181-4d95-a802-cd91c8b3ed69",
   "metadata": {},
   "outputs": [
    {
     "name": "stdout",
     "output_type": "stream",
     "text": [
      "[7.33e-08, 5.16e-08, 7.33e-08, 5.16e-08, 7.33e-08, 5.16e-08, 7.33e-08, 5.16e-08, 7.33e-08, 5.16e-08, 7.33e-08, 0.000138511, 'gene']\n",
      "[7.33e-08, 5.16e-08, 7.33e-08, 5.16e-08, 7.33e-08, 5.16e-08, 7.33e-08, 5.16e-08, 7.33e-08, 5.16e-08, 7.33e-08, 0.000138511, 'gene', 5.16e-08, 7.33e-08]\n",
      "0 1\n"
     ]
    }
   ],
   "source": [
    "# list as objects\n",
    "# extend method\n",
    "print(gene_expression)\n",
    "gene_expression.extend([5.16e-08,7.33e-08])\n",
    "# count method\n",
    "print(gene_expression)\n",
    "print(gene_expression.count(\"Lif\"),gene_expression.count(\"gene\"))"
   ]
  },
  {
   "cell_type": "code",
   "execution_count": 46,
   "id": "fbea6694-55ff-4af0-bf5f-71d5dbbddd22",
   "metadata": {},
   "outputs": [
    {
     "name": "stdout",
     "output_type": "stream",
     "text": [
      "[7.33e-08, 5.16e-08, 7.33e-08, 5.16e-08, 7.33e-08, 5.16e-08, 7.33e-08, 5.16e-08, 7.33e-08, 5.16e-08, 7.33e-08, 0.000138511, 'gene', 5.16e-08, 7.33e-08]\n",
      "[7.33e-08, 5.16e-08, 'gene', 0.000138511, 7.33e-08, 5.16e-08, 7.33e-08, 5.16e-08, 7.33e-08, 5.16e-08, 7.33e-08, 5.16e-08, 7.33e-08, 5.16e-08, 7.33e-08]\n"
     ]
    }
   ],
   "source": [
    "# reverse method\n",
    "print(gene_expression)\n",
    "gene_expression.reverse()\n",
    "print(gene_expression)"
   ]
  },
  {
   "cell_type": "code",
   "execution_count": 47,
   "id": "6de5305b-7c67-4c4f-8c13-96fa2489e0e8",
   "metadata": {},
   "outputs": [
    {
     "name": "stdout",
     "output_type": "stream",
     "text": [
      "Help on class list in module builtins:\n",
      "\n",
      "class list(object)\n",
      " |  list(iterable=(), /)\n",
      " |\n",
      " |  Built-in mutable sequence.\n",
      " |\n",
      " |  If no argument is given, the constructor creates a new empty list.\n",
      " |  The argument must be an iterable if specified.\n",
      " |\n",
      " |  Methods defined here:\n",
      " |\n",
      " |  __add__(self, value, /)\n",
      " |      Return self+value.\n",
      " |\n",
      " |  __contains__(self, key, /)\n",
      " |      Return bool(key in self).\n",
      " |\n",
      " |  __delitem__(self, key, /)\n",
      " |      Delete self[key].\n",
      " |\n",
      " |  __eq__(self, value, /)\n",
      " |      Return self==value.\n",
      " |\n",
      " |  __ge__(self, value, /)\n",
      " |      Return self>=value.\n",
      " |\n",
      " |  __getattribute__(self, name, /)\n",
      " |      Return getattr(self, name).\n",
      " |\n",
      " |  __getitem__(self, index, /)\n",
      " |      Return self[index].\n",
      " |\n",
      " |  __gt__(self, value, /)\n",
      " |      Return self>value.\n",
      " |\n",
      " |  __iadd__(self, value, /)\n",
      " |      Implement self+=value.\n",
      " |\n",
      " |  __imul__(self, value, /)\n",
      " |      Implement self*=value.\n",
      " |\n",
      " |  __init__(self, /, *args, **kwargs)\n",
      " |      Initialize self.  See help(type(self)) for accurate signature.\n",
      " |\n",
      " |  __iter__(self, /)\n",
      " |      Implement iter(self).\n",
      " |\n",
      " |  __le__(self, value, /)\n",
      " |      Return self<=value.\n",
      " |\n",
      " |  __len__(self, /)\n",
      " |      Return len(self).\n",
      " |\n",
      " |  __lt__(self, value, /)\n",
      " |      Return self<value.\n",
      " |\n",
      " |  __mul__(self, value, /)\n",
      " |      Return self*value.\n",
      " |\n",
      " |  __ne__(self, value, /)\n",
      " |      Return self!=value.\n",
      " |\n",
      " |  __repr__(self, /)\n",
      " |      Return repr(self).\n",
      " |\n",
      " |  __reversed__(self, /)\n",
      " |      Return a reverse iterator over the list.\n",
      " |\n",
      " |  __rmul__(self, value, /)\n",
      " |      Return value*self.\n",
      " |\n",
      " |  __setitem__(self, key, value, /)\n",
      " |      Set self[key] to value.\n",
      " |\n",
      " |  __sizeof__(self, /)\n",
      " |      Return the size of the list in memory, in bytes.\n",
      " |\n",
      " |  append(self, object, /)\n",
      " |      Append object to the end of the list.\n",
      " |\n",
      " |  clear(self, /)\n",
      " |      Remove all items from list.\n",
      " |\n",
      " |  copy(self, /)\n",
      " |      Return a shallow copy of the list.\n",
      " |\n",
      " |  count(self, value, /)\n",
      " |      Return number of occurrences of value.\n",
      " |\n",
      " |  extend(self, iterable, /)\n",
      " |      Extend list by appending elements from the iterable.\n",
      " |\n",
      " |  index(self, value, start=0, stop=9223372036854775807, /)\n",
      " |      Return first index of value.\n",
      " |\n",
      " |      Raises ValueError if the value is not present.\n",
      " |\n",
      " |  insert(self, index, object, /)\n",
      " |      Insert object before index.\n",
      " |\n",
      " |  pop(self, index=-1, /)\n",
      " |      Remove and return item at index (default last).\n",
      " |\n",
      " |      Raises IndexError if list is empty or index is out of range.\n",
      " |\n",
      " |  remove(self, value, /)\n",
      " |      Remove first occurrence of value.\n",
      " |\n",
      " |      Raises ValueError if the value is not present.\n",
      " |\n",
      " |  reverse(self, /)\n",
      " |      Reverse *IN PLACE*.\n",
      " |\n",
      " |  sort(self, /, *, key=None, reverse=False)\n",
      " |      Sort the list in ascending order and return None.\n",
      " |\n",
      " |      The sort is in-place (i.e. the list itself is modified) and stable (i.e. the\n",
      " |      order of two equal elements is maintained).\n",
      " |\n",
      " |      If a key function is given, apply it once to each list item and sort them,\n",
      " |      ascending or descending, according to their function values.\n",
      " |\n",
      " |      The reverse flag can be set to sort in descending order.\n",
      " |\n",
      " |  ----------------------------------------------------------------------\n",
      " |  Class methods defined here:\n",
      " |\n",
      " |  __class_getitem__(...)\n",
      " |      See PEP 585\n",
      " |\n",
      " |  ----------------------------------------------------------------------\n",
      " |  Static methods defined here:\n",
      " |\n",
      " |  __new__(*args, **kwargs)\n",
      " |      Create and return a new object.  See help(type) for accurate signature.\n",
      " |\n",
      " |  ----------------------------------------------------------------------\n",
      " |  Data and other attributes defined here:\n",
      " |\n",
      " |  __hash__ = None\n",
      "\n"
     ]
    }
   ],
   "source": [
    "# help(list)"
   ]
  },
  {
   "cell_type": "code",
   "execution_count": null,
   "id": "555eec09-8b3f-4db2-be29-e0f11579f09c",
   "metadata": {},
   "outputs": [],
   "source": [
    "# list As Stacks"
   ]
  },
  {
   "cell_type": "markdown",
   "id": "956cd42e-35c4-4b33-8e1e-be1e008afa9d",
   "metadata": {},
   "source": [
    "##### differences betwen append and extend\n",
    "[fruther reading](https://www.geeksforgeeks.org/stack-data-structure/)"
   ]
  },
  {
   "cell_type": "code",
   "execution_count": 63,
   "id": "1653a8bc-a8a4-42f5-afa6-0e5aa8a95a50",
   "metadata": {},
   "outputs": [
    {
     "name": "stdout",
     "output_type": "stream",
     "text": [
      "['a', 'b', 'c', 'd', ['e', 'f']]\n"
     ]
    }
   ],
   "source": [
    "stack = ['a','b','c','d']\n",
    "stack.append(['e','f'])\n",
    "print(stack)"
   ]
  },
  {
   "cell_type": "code",
   "execution_count": 64,
   "id": "86f580ec-8a5d-4e76-a485-cd8aa2dafa24",
   "metadata": {},
   "outputs": [
    {
     "name": "stdout",
     "output_type": "stream",
     "text": [
      "['a', 'b', 'c', 'd', 'e', 'f']\n"
     ]
    }
   ],
   "source": [
    "stacks = ['a','b','c','d']\n",
    "stacks.extend(['e','f'])\n",
    "print(stacks)"
   ]
  },
  {
   "cell_type": "code",
   "execution_count": 69,
   "id": "716f3af6-03f5-496e-b9b9-d4540baf532b",
   "metadata": {},
   "outputs": [
    {
     "name": "stdout",
     "output_type": "stream",
     "text": [
      "['a', 'b', 'c', 'd', 'e']\n",
      "e\n"
     ]
    }
   ],
   "source": [
    "stack = ['a','b','c','d']\n",
    "stack.append('e')\n",
    "print(stack)\n",
    "elem = stack.pop()\n",
    "print(elem)"
   ]
  },
  {
   "cell_type": "markdown",
   "id": "32914ddf-aaeb-443a-9b29-7a8cf8375077",
   "metadata": {},
   "source": [
    "![stack](https://media.geeksforgeeks.org/wp-content/cdn-uploads/20230726165552/Stack-Data-Structure.png)"
   ]
  },
  {
   "cell_type": "code",
   "execution_count": 77,
   "id": "c4291b9f-092c-4b93-8af1-861462fcd39c",
   "metadata": {},
   "outputs": [
    {
     "name": "stdout",
     "output_type": "stream",
     "text": [
      "[1, 3, 5, 31, 123]\n",
      "[3, 31, 123, 1, 5]\n",
      "[1, 3, 5, 31, 123]\n",
      "['A', 'T', 'a', 'c', 'g']\n"
     ]
    }
   ],
   "source": [
    "#### sorting lists\n",
    "mylist = [3,31,123,1,5]\n",
    "print(sorted(mylist))\n",
    "print(mylist)\n",
    "mylist = [3,31,123,1,5]\n",
    "mylist.sort() # sort() method mofifies the list\n",
    "print(mylist)\n",
    "mylist = ['c','g','T','a','A']\n",
    "print(sorted(mylist))"
   ]
  },
  {
   "cell_type": "markdown",
   "id": "007c40f7-ec5d-4d63-b777-b43aa981e13e",
   "metadata": {
    "jp-MarkdownHeadingCollapsed": true
   },
   "source": [
    "### Data structure part 2"
   ]
  },
  {
   "cell_type": "markdown",
   "id": "44f0ca2b-b9f7-48f0-80bf-7191d3392c6e",
   "metadata": {},
   "source": [
    "#### Tuples"
   ]
  },
  {
   "cell_type": "code",
   "execution_count": 85,
   "id": "836309f8-8654-4056-a58e-7a0c2c938761",
   "metadata": {},
   "outputs": [
    {
     "name": "stdout",
     "output_type": "stream",
     "text": [
      "(1, 2, 3)\n",
      "(1, 2, 3)\n"
     ]
    }
   ],
   "source": [
    "# how to define a tuple\n",
    "t = 1,2,3\n",
    "print(t)\n",
    "t = (1,2,3)\n",
    "print(t)"
   ]
  },
  {
   "cell_type": "code",
   "execution_count": 86,
   "id": "ff5a640e-a019-47bf-88e3-887540879c89",
   "metadata": {},
   "outputs": [],
   "source": [
    "# tuples are immuatble(unchangeable) but we can do things that we do exactly with list"
   ]
  },
  {
   "cell_type": "markdown",
   "id": "656f27da-523e-4ec9-93b9-901802a6acc6",
   "metadata": {},
   "source": [
    "#### sets\n",
    "A set is an unordered collection with no duplicate elements.\r\n",
    "Set objects support mathematical operations like union,\r\n",
    "intersection, and difference."
   ]
  },
  {
   "cell_type": "code",
   "execution_count": 95,
   "id": "cf09ccfd-4ba0-4a89-a13f-bc44645a681c",
   "metadata": {},
   "outputs": [],
   "source": [
    "brca1={'DNA repair' ,'zinc ion binding' , 'DNA binding' , 'ubiquitin—protein transferase activity',\n",
    "'DNA repair' , 'protein ubiquitination' }"
   ]
  },
  {
   "cell_type": "code",
   "execution_count": 97,
   "id": "437a2e27-5664-4b19-ad92-4c2f9dd1a3a4",
   "metadata": {},
   "outputs": [
    {
     "data": {
      "text/plain": [
       "{'DNA binding',\n",
       " 'DNA repair',\n",
       " 'protein ubiquitination',\n",
       " 'ubiquitin—protein transferase activity',\n",
       " 'zinc ion binding'}"
      ]
     },
     "execution_count": 97,
     "metadata": {},
     "output_type": "execute_result"
    }
   ],
   "source": [
    "brca1\n",
    "# as we can see it shows DNA repair one time"
   ]
  },
  {
   "cell_type": "code",
   "execution_count": 99,
   "id": "b244a6db-2b32-4834-b1f1-43a5da9bd119",
   "metadata": {},
   "outputs": [],
   "source": [
    "brca2={'protein binding','H4 histone acetyltransferase activity','nucleoplasm', 'DNA repair','double-strand break repair', 'double-strand break repair via homologous recombination'}"
   ]
  },
  {
   "cell_type": "code",
   "execution_count": 100,
   "id": "5da4ee00-69b6-48b3-aa7e-c111bacc8b81",
   "metadata": {},
   "outputs": [
    {
     "data": {
      "text/plain": [
       "{'DNA repair',\n",
       " 'H4 histone acetyltransferase activity',\n",
       " 'double-strand break repair',\n",
       " 'double-strand break repair via homologous recombination',\n",
       " 'nucleoplasm',\n",
       " 'protein binding'}"
      ]
     },
     "execution_count": 100,
     "metadata": {},
     "output_type": "execute_result"
    }
   ],
   "source": [
    "brca2"
   ]
  },
  {
   "cell_type": "code",
   "execution_count": 101,
   "id": "21aa9a0e-7a9a-41b8-9ccd-20b3cae4bd05",
   "metadata": {},
   "outputs": [
    {
     "data": {
      "text/plain": [
       "{'DNA binding',\n",
       " 'DNA repair',\n",
       " 'H4 histone acetyltransferase activity',\n",
       " 'double-strand break repair',\n",
       " 'double-strand break repair via homologous recombination',\n",
       " 'nucleoplasm',\n",
       " 'protein binding',\n",
       " 'protein ubiquitination',\n",
       " 'ubiquitin—protein transferase activity',\n",
       " 'zinc ion binding'}"
      ]
     },
     "execution_count": 101,
     "metadata": {},
     "output_type": "execute_result"
    }
   ],
   "source": [
    "brca1 | brca2"
   ]
  },
  {
   "cell_type": "code",
   "execution_count": 103,
   "id": "5050364b-eb3d-4a05-9e25-f7a36db401c0",
   "metadata": {},
   "outputs": [
    {
     "data": {
      "text/plain": [
       "{'DNA repair'}"
      ]
     },
     "execution_count": 103,
     "metadata": {},
     "output_type": "execute_result"
    }
   ],
   "source": [
    "brca1 & brca2"
   ]
  },
  {
   "cell_type": "code",
   "execution_count": 104,
   "id": "a8e075de-68e9-4836-a6e3-5d96b720518d",
   "metadata": {},
   "outputs": [
    {
     "data": {
      "text/plain": [
       "{'DNA binding',\n",
       " 'protein ubiquitination',\n",
       " 'ubiquitin—protein transferase activity',\n",
       " 'zinc ion binding'}"
      ]
     },
     "execution_count": 104,
     "metadata": {},
     "output_type": "execute_result"
    }
   ],
   "source": [
    "brca1 - brca2"
   ]
  },
  {
   "cell_type": "markdown",
   "id": "5802dc44-a71b-4b0d-a6f6-77405c3e9ade",
   "metadata": {},
   "source": [
    "#### Dictionaries \n",
    "A dictionary is an unordered set of key and value\n",
    "pairs, with the requirement that the keys are unique (within one dictionary)."
   ]
  },
  {
   "cell_type": "code",
   "execution_count": 107,
   "id": "bf24e2f3-0233-458d-9238-0d526437d198",
   "metadata": {},
   "outputs": [],
   "source": [
    "TF_motif = {'SP1' :'gggcgg',\n",
    "'C/EBP':'attgcgcaat',\n",
    "'ATF':'tgacgtca',\n",
    "'c-Myc':'cacgtg',\n",
    "'Oct-1':'atgcaaat'}"
   ]
  },
  {
   "cell_type": "code",
   "execution_count": 108,
   "id": "8f12926f-d655-4eb7-8c79-76373788e66c",
   "metadata": {},
   "outputs": [
    {
     "data": {
      "text/plain": [
       "{'SP1': 'gggcgg',\n",
       " 'C/EBP': 'attgcgcaat',\n",
       " 'ATF': 'tgacgtca',\n",
       " 'c-Myc': 'cacgtg',\n",
       " 'Oct-1': 'atgcaaat'}"
      ]
     },
     "execution_count": 108,
     "metadata": {},
     "output_type": "execute_result"
    }
   ],
   "source": [
    "TF_motif"
   ]
  },
  {
   "cell_type": "code",
   "execution_count": 112,
   "id": "9ba4d3ea-c38d-44e1-9346-2e26a60f647a",
   "metadata": {},
   "outputs": [
    {
     "name": "stdout",
     "output_type": "stream",
     "text": [
      "dict_keys(['SP1', 'C/EBP', 'ATF', 'c-Myc', 'Oct-1'])\n",
      "dict_values(['gggcgg', 'attgcgcaat', 'tgacgtca', 'cacgtg', 'atgcaaat'])\n"
     ]
    }
   ],
   "source": [
    "print(TF_motif.keys())\n",
    "print(TF_motif.values())"
   ]
  },
  {
   "cell_type": "code",
   "execution_count": 113,
   "id": "1c4d4630-4c80-49df-9575-5d2e6618e994",
   "metadata": {},
   "outputs": [
    {
     "data": {
      "text/plain": [
       "'tgacgtca'"
      ]
     },
     "execution_count": 113,
     "metadata": {},
     "output_type": "execute_result"
    }
   ],
   "source": [
    "TF_motif[\"ATF\"]"
   ]
  },
  {
   "cell_type": "code",
   "execution_count": 115,
   "id": "9ea419fb-57ed-4663-bdc2-86eb6cf7a0e5",
   "metadata": {},
   "outputs": [
    {
     "data": {
      "text/plain": [
       "True"
      ]
     },
     "execution_count": 115,
     "metadata": {},
     "output_type": "execute_result"
    }
   ],
   "source": [
    "# check first if a key is present!\n",
    "\"ATF\" in TF_motif"
   ]
  },
  {
   "cell_type": "code",
   "execution_count": 116,
   "id": "f8a283ef-c59f-479a-879f-cb4f0260987e",
   "metadata": {},
   "outputs": [
    {
     "data": {
      "text/plain": [
       "False"
      ]
     },
     "execution_count": 116,
     "metadata": {},
     "output_type": "execute_result"
    }
   ],
   "source": [
    "\"NF-1\" in TF_motif"
   ]
  },
  {
   "cell_type": "code",
   "execution_count": 119,
   "id": "b3e0ae1d-71d7-4e52-aa4d-7ef73c331137",
   "metadata": {},
   "outputs": [
    {
     "name": "stdout",
     "output_type": "stream",
     "text": [
      "The recognition sequence for the ATF transcription is tgacgtca.\n"
     ]
    }
   ],
   "source": [
    "print(\"The recognition sequence for the ATF transcription is %s.\" % TF_motif['ATF'])"
   ]
  },
  {
   "cell_type": "code",
   "execution_count": 122,
   "id": "8d069342-6df1-4646-a278-df1fb84d2099",
   "metadata": {},
   "outputs": [],
   "source": [
    "# updating A dictionary\n",
    "TF_motif = {'SP1' :'gggcgg',\n",
    "'C/EBP':'attgcgcaat',\n",
    "'ATF':'tgacgtca',\n",
    "'c-Myc':'cacgtg',\n",
    "'Oct-1':'atgcaaat'}\n"
   ]
  },
  {
   "cell_type": "code",
   "execution_count": 125,
   "id": "4379d208-65d9-4301-8f20-173acdcb3250",
   "metadata": {},
   "outputs": [],
   "source": [
    "# add new a key:value\n",
    "TF_motif[\"AP-1\"] = 'tgagtca'"
   ]
  },
  {
   "cell_type": "code",
   "execution_count": 124,
   "id": "9722e50e-35a8-4ada-b6a7-f032e4b23510",
   "metadata": {},
   "outputs": [
    {
     "data": {
      "text/plain": [
       "{'SP1': 'gggcgg',\n",
       " 'C/EBP': 'attgcgcaat',\n",
       " 'ATF': 'tgacgtca',\n",
       " 'c-Myc': 'cacgtg',\n",
       " 'Oct-1': 'atgcaaat',\n",
       " 'AP-1': 'tgagtca'}"
      ]
     },
     "execution_count": 124,
     "metadata": {},
     "output_type": "execute_result"
    }
   ],
   "source": [
    "TF_motif"
   ]
  },
  {
   "cell_type": "code",
   "execution_count": 126,
   "id": "c27a0719-9efd-4a01-bc29-7eb47bc90305",
   "metadata": {},
   "outputs": [],
   "source": [
    "# modify and existing entry:\n",
    "TF_motif['AP-1'] = 'tga(g/c)tca'"
   ]
  },
  {
   "cell_type": "code",
   "execution_count": 127,
   "id": "60a65bd9-b8ea-446c-bb09-70612c8da264",
   "metadata": {},
   "outputs": [
    {
     "data": {
      "text/plain": [
       "{'SP1': 'gggcgg',\n",
       " 'C/EBP': 'attgcgcaat',\n",
       " 'ATF': 'tgacgtca',\n",
       " 'c-Myc': 'cacgtg',\n",
       " 'Oct-1': 'atgcaaat',\n",
       " 'AP-1': 'tga(g/c)tca'}"
      ]
     },
     "execution_count": 127,
     "metadata": {},
     "output_type": "execute_result"
    }
   ],
   "source": [
    "TF_motif"
   ]
  },
  {
   "cell_type": "code",
   "execution_count": 128,
   "id": "deb2e827-3de4-4ea0-a061-abad4d60310d",
   "metadata": {},
   "outputs": [],
   "source": [
    "del TF_motif['SP1']"
   ]
  },
  {
   "cell_type": "code",
   "execution_count": 130,
   "id": "88ea33ca-4ff0-47a8-af39-d6e18a6709de",
   "metadata": {},
   "outputs": [
    {
     "data": {
      "text/plain": [
       "{'C/EBP': 'attgcgcaat',\n",
       " 'ATF': 'tgacgtca',\n",
       " 'c-Myc': 'cacgtg',\n",
       " 'Oct-1': 'atgcaaat',\n",
       " 'AP-1': 'tga(g/c)tca'}"
      ]
     },
     "execution_count": 130,
     "metadata": {},
     "output_type": "execute_result"
    }
   ],
   "source": [
    "TF_motif"
   ]
  },
  {
   "cell_type": "code",
   "execution_count": 132,
   "id": "e258bcef-77b5-44cd-9e7e-da0f7dd21242",
   "metadata": {},
   "outputs": [],
   "source": [
    "# add another dictionary to current one\n",
    "TF_motif.update({'SP1': 'gggcgg', 'C/EBP': 'attgcgcaat',\n",
    "'Oct-1': 'atgcaaa'})"
   ]
  },
  {
   "cell_type": "code",
   "execution_count": 133,
   "id": "33ac1a43-cea0-4c9c-b687-ee37dd57d5c5",
   "metadata": {},
   "outputs": [
    {
     "data": {
      "text/plain": [
       "{'C/EBP': 'attgcgcaat',\n",
       " 'ATF': 'tgacgtca',\n",
       " 'c-Myc': 'cacgtg',\n",
       " 'Oct-1': 'atgcaaa',\n",
       " 'AP-1': 'tga(g/c)tca',\n",
       " 'SP1': 'gggcgg'}"
      ]
     },
     "execution_count": 133,
     "metadata": {},
     "output_type": "execute_result"
    }
   ],
   "source": [
    "TF_motif"
   ]
  },
  {
   "cell_type": "code",
   "execution_count": 134,
   "id": "91ce906d-b82d-4b12-9e4f-55b80306ec40",
   "metadata": {},
   "outputs": [
    {
     "data": {
      "text/plain": [
       "6"
      ]
     },
     "execution_count": 134,
     "metadata": {},
     "output_type": "execute_result"
    }
   ],
   "source": [
    "len(TF_motif)"
   ]
  },
  {
   "cell_type": "code",
   "execution_count": 136,
   "id": "d8fa8665-c281-4ac7-88c2-1720350e7a76",
   "metadata": {},
   "outputs": [
    {
     "data": {
      "text/plain": [
       "['attgcgcaat', 'tgacgtca', 'cacgtg', 'atgcaaa', 'tga(g/c)tca', 'gggcgg']"
      ]
     },
     "execution_count": 136,
     "metadata": {},
     "output_type": "execute_result"
    }
   ],
   "source": [
    "list(TF_motif.values())"
   ]
  },
  {
   "cell_type": "code",
   "execution_count": 138,
   "id": "572fc3a5-4f6d-466c-82d7-a540fb61f0a2",
   "metadata": {},
   "outputs": [
    {
     "data": {
      "text/plain": [
       "['C/EBP', 'ATF', 'c-Myc', 'Oct-1', 'AP-1', 'SP1']"
      ]
     },
     "execution_count": 138,
     "metadata": {},
     "output_type": "execute_result"
    }
   ],
   "source": [
    "list(TF_motif.keys())"
   ]
  },
  {
   "cell_type": "code",
   "execution_count": 139,
   "id": "1c58490a-7bd2-4269-9786-edb37d398baa",
   "metadata": {},
   "outputs": [
    {
     "data": {
      "text/plain": [
       "{'C/EBP': 'attgcgcaat',\n",
       " 'ATF': 'tgacgtca',\n",
       " 'c-Myc': 'cacgtg',\n",
       " 'Oct-1': 'atgcaaa',\n",
       " 'AP-1': 'tga(g/c)tca',\n",
       " 'SP1': 'gggcgg'}"
      ]
     },
     "execution_count": 139,
     "metadata": {},
     "output_type": "execute_result"
    }
   ],
   "source": [
    "TF_motif"
   ]
  },
  {
   "cell_type": "code",
   "execution_count": 140,
   "id": "8d068757-f6aa-4eb0-9dcb-608d03866297",
   "metadata": {},
   "outputs": [
    {
     "data": {
      "text/plain": [
       "['AP-1', 'ATF', 'C/EBP', 'Oct-1', 'SP1', 'c-Myc']"
      ]
     },
     "execution_count": 140,
     "metadata": {},
     "output_type": "execute_result"
    }
   ],
   "source": [
    "sorted(TF_motif.keys())"
   ]
  },
  {
   "cell_type": "code",
   "execution_count": 142,
   "id": "6dbfa7bc-04ec-41fc-8da3-3d4caaf57210",
   "metadata": {},
   "outputs": [
    {
     "data": {
      "text/plain": [
       "['atgcaaa', 'attgcgcaat', 'cacgtg', 'gggcgg', 'tga(g/c)tca', 'tgacgtca']"
      ]
     },
     "execution_count": 142,
     "metadata": {},
     "output_type": "execute_result"
    }
   ],
   "source": [
    "sorted(TF_motif.values())"
   ]
  },
  {
   "cell_type": "markdown",
   "id": "dbd4c92f-7538-4635-81ef-ad6c41bc8774",
   "metadata": {
    "jp-MarkdownHeadingCollapsed": true
   },
   "source": [
    "## Lecture 3 quiz"
   ]
  },
  {
   "cell_type": "code",
   "execution_count": 144,
   "id": "489dd1e5-e37b-4054-b3bb-8e6eba568987",
   "metadata": {},
   "outputs": [
    {
     "data": {
      "text/plain": [
       "list"
      ]
     },
     "execution_count": 144,
     "metadata": {},
     "output_type": "execute_result"
    }
   ],
   "source": [
    "# q1\n",
    "type([1e-10,(1,2),\"BGP\",[3]])"
   ]
  },
  {
   "cell_type": "code",
   "execution_count": 146,
   "id": "b63e28b4-e450-47ab-a841-0b8c693d7ef5",
   "metadata": {},
   "outputs": [
    {
     "data": {
      "text/plain": [
       "90.0"
      ]
     },
     "execution_count": 146,
     "metadata": {},
     "output_type": "execute_result"
    }
   ],
   "source": [
    "# q2\n",
    "grades = [70,80.0,90,100]\n",
    "(grades[1]+grades[3])/2"
   ]
  },
  {
   "cell_type": "code",
   "execution_count": 147,
   "id": "bfab5362-94cd-4ccb-807f-bab7cee46e63",
   "metadata": {},
   "outputs": [
    {
     "data": {
      "text/plain": [
       "['GT-AG', 'GC-AG']"
      ]
     },
     "execution_count": 147,
     "metadata": {},
     "output_type": "execute_result"
    }
   ],
   "source": [
    "# q3\n",
    "splice_site_pairs = ['GT-AG','GC-AG','AT-AC']\n",
    "splice_site_pairs[:-1]"
   ]
  },
  {
   "cell_type": "code",
   "execution_count": 148,
   "id": "58f833df-732d-4e44-bd05-3a8966ef7ebd",
   "metadata": {},
   "outputs": [],
   "source": [
    "# q4"
   ]
  },
  {
   "cell_type": "code",
   "execution_count": 150,
   "id": "df33be8e-cd0e-4008-a0b5-5186cd737b01",
   "metadata": {},
   "outputs": [
    {
     "ename": "AttributeError",
     "evalue": "'tuple' object has no attribute 'append'",
     "output_type": "error",
     "traceback": [
      "\u001b[1;31m---------------------------------------------------------------------------\u001b[0m",
      "\u001b[1;31mAttributeError\u001b[0m                            Traceback (most recent call last)",
      "Cell \u001b[1;32mIn[150], line 3\u001b[0m\n\u001b[0;32m      1\u001b[0m \u001b[38;5;66;03m# q5\u001b[39;00m\n\u001b[0;32m      2\u001b[0m t \u001b[38;5;241m=\u001b[39m (\u001b[38;5;124m'\u001b[39m\u001b[38;5;124ma\u001b[39m\u001b[38;5;124m'\u001b[39m, \u001b[38;5;124m'\u001b[39m\u001b[38;5;124mc\u001b[39m\u001b[38;5;124m'\u001b[39m, \u001b[38;5;124m'\u001b[39m\u001b[38;5;124mg\u001b[39m\u001b[38;5;124m'\u001b[39m, \u001b[38;5;124m'\u001b[39m\u001b[38;5;124mt\u001b[39m\u001b[38;5;124m'\u001b[39m)\n\u001b[1;32m----> 3\u001b[0m t\u001b[38;5;241m.\u001b[39mappend( (\u001b[38;5;124m'\u001b[39m\u001b[38;5;124mA\u001b[39m\u001b[38;5;124m'\u001b[39m,\u001b[38;5;124m'\u001b[39m\u001b[38;5;124mC\u001b[39m\u001b[38;5;124m'\u001b[39m,\u001b[38;5;124m'\u001b[39m\u001b[38;5;124mG\u001b[39m\u001b[38;5;124m'\u001b[39m,\u001b[38;5;124m'\u001b[39m\u001b[38;5;124mT\u001b[39m\u001b[38;5;124m'\u001b[39m) )\n\u001b[0;32m      4\u001b[0m \u001b[38;5;28mprint\u001b[39m (\u001b[38;5;28mlen\u001b[39m(t))\n",
      "\u001b[1;31mAttributeError\u001b[0m: 'tuple' object has no attribute 'append'"
     ]
    }
   ],
   "source": [
    "# q5\n",
    "t = ('a', 'c', 'g', 't')\n",
    "t.append( ('A','C','G','T') )\n",
    "print (len(t))"
   ]
  },
  {
   "cell_type": "code",
   "execution_count": 152,
   "id": "8b5ffbcb-9f1c-4c67-beea-8a0d2c74c866",
   "metadata": {},
   "outputs": [
    {
     "name": "stdin",
     "output_type": "stream",
     "text": [
      "Enter DNA sequence: atcg\n"
     ]
    },
    {
     "name": "stdout",
     "output_type": "stream",
     "text": [
      "['a', 'c', 'g', 't']\n",
      "t\n"
     ]
    }
   ],
   "source": [
    "dna=input(\"Enter DNA sequence:\")\n",
    "\n",
    "dna_counts={'t':dna.count('t'),'c':dna.count('c'),'g':dna.count('g'),'a':dna.count('a')}\n",
    "\n",
    "nt=sorted(dna_counts.keys())\n",
    "print(nt)\n",
    "print(nt[-1])"
   ]
  },
  {
   "cell_type": "code",
   "execution_count": 153,
   "id": "697a2934-9750-43c5-9e0b-4c82055c2b40",
   "metadata": {},
   "outputs": [
    {
     "name": "stdout",
     "output_type": "stream",
     "text": [
      "{'g': 13, 'c': 3, 't': 1}\n"
     ]
    }
   ],
   "source": [
    "# q7\n",
    "dna_counts={'g': 13, 'c': 3,'t': 1, 'a': 16}\n",
    "del dna_counts['a']\n",
    "print(dna_counts)"
   ]
  },
  {
   "cell_type": "code",
   "execution_count": 157,
   "id": "4202fa94-25b0-4b77-bc5b-9a00434c6250",
   "metadata": {
    "scrolled": true
   },
   "outputs": [
    {
     "name": "stdin",
     "output_type": "stream",
     "text": [
      "Enter DNA sequence: ataaaattttttttttggggcgv\n"
     ]
    },
    {
     "name": "stdout",
     "output_type": "stream",
     "text": [
      "11\n"
     ]
    }
   ],
   "source": [
    "# q8\n",
    "dna=input(\"Enter DNA sequence:\")\n",
    "dna_counts= {'t':dna.count('t'),'c':dna.count('c'),'g':dna.count('g'),'a':dna.count('a')}\n",
    "max_freq=sorted(dna_counts.values())[-1]\n",
    "print(max_freq)"
   ]
  },
  {
   "cell_type": "code",
   "execution_count": null,
   "id": "0d5dfb4d-5d3b-4719-8603-d886e0423be5",
   "metadata": {},
   "outputs": [],
   "source": [
    "#q9\n"
   ]
  },
  {
   "cell_type": "code",
   "execution_count": 158,
   "id": "be604533-8cda-4819-b489-20426b4b53e4",
   "metadata": {},
   "outputs": [
    {
     "name": "stdout",
     "output_type": "stream",
     "text": [
      "{'cheese': 'Dairy', 'Cheese': 'Dairy'}\n"
     ]
    }
   ],
   "source": [
    "# q10\n",
    "someData = { }\n",
    "someData['cheese'] = 'dairy'\n",
    "someData['Cheese'] = 'dairy'\n",
    "someData['Cheese'] = 'Dairy'\n",
    "someData['cheese'] = 'Dairy'\n",
    "print(someData)"
   ]
  },
  {
   "cell_type": "markdown",
   "id": "15bfac8a-3a1a-4a23-914e-8d1232294cd7",
   "metadata": {
    "jp-MarkdownHeadingCollapsed": true
   },
   "source": [
    "## Lecture 4.1 : ifs and Loops part1"
   ]
  },
  {
   "cell_type": "code",
   "execution_count": 160,
   "id": "7354de7a-ec8b-463b-877a-735999936114",
   "metadata": {},
   "outputs": [
    {
     "name": "stdin",
     "output_type": "stream",
     "text": [
      "Enter DNA sequence nnnaAAA\n"
     ]
    },
    {
     "name": "stdout",
     "output_type": "stream",
     "text": [
      "dna sequence has 3 undefined bases\n"
     ]
    }
   ],
   "source": [
    "# if statment\n",
    "dna = input(\"Enter DNA sequence\")\n",
    "if 'n' in dna:\n",
    "    nbases = dna.count('n')\n",
    "    print(\"dna sequence has %d undefined bases\" % nbases)"
   ]
  },
  {
   "cell_type": "code",
   "execution_count": 167,
   "id": "9d7697ab-a50c-4d4b-8c85-5f3a30778c98",
   "metadata": {},
   "outputs": [
    {
     "name": "stdin",
     "output_type": "stream",
     "text": [
      "Enter DNA sequence atattttccggg\n"
     ]
    },
    {
     "name": "stdout",
     "output_type": "stream",
     "text": [
      "dna sequence has no undefined bases\n"
     ]
    }
   ],
   "source": [
    "# if statment with alternative exections\n",
    "dna = input(\"Enter DNA sequence\")\n",
    "if \"n\" in dna:\n",
    "    nbases = dna.count('n')\n",
    "    print(\"dna sequence has %d undefined bases\" % nbases)\n",
    "else:\n",
    "    print(\"dna sequence has no undefined bases\")"
   ]
  },
  {
   "cell_type": "code",
   "execution_count": 170,
   "id": "46148fe3-fa52-4b0a-bc6e-51ab3f5396b2",
   "metadata": {},
   "outputs": [
    {
     "name": "stdin",
     "output_type": "stream",
     "text": [
      "Enter DNA sequence attttNNN\n"
     ]
    },
    {
     "name": "stdout",
     "output_type": "stream",
     "text": [
      "dna sequence has 3 undefined bases\n"
     ]
    }
   ],
   "source": [
    "# if statment with mulitple alternative exections\n",
    "dna = input(\"Enter DNA sequence\")\n",
    "if \"n\" in dna:\n",
    "    nbases = dna.count('n')\n",
    "    print(\"dna sequence has %d undefined bases\" % nbases)\n",
    "elif \"N\" in dna:\n",
    "    nbases = dna.count('N')\n",
    "    print(\"dna sequence has %d undefined bases\" % nbases)\n",
    "else:\n",
    "    print(\"dna sequence has no undefined bases\")"
   ]
  },
  {
   "cell_type": "code",
   "execution_count": 163,
   "id": "a9e5146c-9599-44ea-b193-d5b737654f14",
   "metadata": {},
   "outputs": [
    {
     "name": "stdout",
     "output_type": "stream",
     "text": [
      "False\n",
      "True\n"
     ]
    }
   ],
   "source": [
    "# Boolean Expressions\n",
    "## comparison operators\n",
    "print(len('atgcgt') >= 10)\n",
    "print(\"A\"<\"C\")"
   ]
  },
  {
   "cell_type": "code",
   "execution_count": null,
   "id": "4f45563b-8ad8-43b8-a65e-bc259c01e844",
   "metadata": {},
   "outputs": [],
   "source": [
    "## Membership Operators\n",
    "in\n",
    "not in"
   ]
  },
  {
   "cell_type": "code",
   "execution_count": 164,
   "id": "b6e20a6f-2441-4787-a41d-c860452f6aa0",
   "metadata": {},
   "outputs": [
    {
     "data": {
      "text/plain": [
       "True"
      ]
     },
     "execution_count": 164,
     "metadata": {},
     "output_type": "execute_result"
    }
   ],
   "source": [
    "motif = 'gtccc'\n",
    "dna = 'atatatgtcccata'\n",
    "motif in dna"
   ]
  },
  {
   "cell_type": "code",
   "execution_count": null,
   "id": "d2f03fc7-1f8a-49f9-bd25-8278f9ae554c",
   "metadata": {},
   "outputs": [],
   "source": [
    "## Identity operators\n",
    "is \n",
    "is not\n"
   ]
  },
  {
   "cell_type": "code",
   "execution_count": 165,
   "id": "ec274cb5-9a0a-4a13-911b-0126c70c43cb",
   "metadata": {},
   "outputs": [
    {
     "name": "stdout",
     "output_type": "stream",
     "text": [
      "True\n",
      "False\n"
     ]
    }
   ],
   "source": [
    "alphabet = ['a','c','g','t']\n",
    "newalphabet = alphabet[:]\n",
    "print(alphabet == newalphabet)\n",
    "print(alphabet is newalphabet)\n",
    "# why they are differntes?\n",
    "# beucase the new object is in new section memory and so they are differnts?"
   ]
  },
  {
   "cell_type": "code",
   "execution_count": null,
   "id": "8847af84-c7a3-4e53-9029-f1cc466d7cbc",
   "metadata": {},
   "outputs": [],
   "source": [
    "## Logical operators\n",
    "and\n",
    "or\n",
    "not"
   ]
  },
  {
   "cell_type": "code",
   "execution_count": 171,
   "id": "73a37632-e81b-4bbc-837f-7673c29e1f1a",
   "metadata": {},
   "outputs": [
    {
     "name": "stdin",
     "output_type": "stream",
     "text": [
      "Enter DNA sequence atttnnnNNNcgt\n"
     ]
    },
    {
     "name": "stdout",
     "output_type": "stream",
     "text": [
      "dna sequence has 6 undefined bases\n"
     ]
    }
   ],
   "source": [
    "dna = input(\"Enter DNA sequence\")\n",
    "if \"n\" in dna or \"N\" in dna:\n",
    "    nbases = dna.count('n') + dna.count(\"N\")\n",
    "    print(\"dna sequence has %d undefined bases\" % nbases)\n",
    "else:\n",
    "    print(\"dna sequence has no undefined bases\")"
   ]
  },
  {
   "cell_type": "markdown",
   "id": "5e7bfc19-1a1e-4752-88f7-bde9be9d9667",
   "metadata": {},
   "source": [
    "## Lecture 4.2 : ifs and Loops part 2"
   ]
  },
  {
   "cell_type": "markdown",
   "id": "827df97f-036e-41cb-9912-00332c7908b3",
   "metadata": {},
   "source": [
    "### The while Loop\n",
    "Problem. Given a DNA sequence find the positions of all\n",
    "canonical donor splice site candidates in the sequence."
   ]
  },
  {
   "cell_type": "code",
   "execution_count": 174,
   "id": "aa92e7e7-4c65-45a6-95fb-9acb17424622",
   "metadata": {},
   "outputs": [
    {
     "name": "stdin",
     "output_type": "stream",
     "text": [
      "Enter DNA sequnce:  at\n"
     ]
    }
   ],
   "source": [
    "dna = input(\"Enter DNA sequnce: \")\n",
    "pos = dna.find('gt', 0) # position of donor splice site\n",
    "while pos > -1:\n",
    "    print(\"Donor splice site candidate at postion %d\" % pos)\n",
    "    pos = dna.find('gt',pos + 1)"
   ]
  },
  {
   "cell_type": "code",
   "execution_count": 175,
   "id": "802af5ba-e100-46f5-9603-1000790ee2e2",
   "metadata": {},
   "outputs": [
    {
     "name": "stdout",
     "output_type": "stream",
     "text": [
      "attccgt 7\n",
      "agggggtttttcg 13\n",
      "gtagc 5\n"
     ]
    }
   ],
   "source": [
    "## the for loop\n",
    "motifs = ['attccgt','agggggtttttcg','gtagc']\n",
    "for m in motifs:\n",
    "    print(m, len(m))"
   ]
  },
  {
   "cell_type": "code",
   "execution_count": 176,
   "id": "b230ea2a-c11b-4c98-a30d-8106211dd2b9",
   "metadata": {},
   "outputs": [
    {
     "name": "stdout",
     "output_type": "stream",
     "text": [
      "0\n",
      "1\n",
      "2\n",
      "3\n"
     ]
    }
   ],
   "source": [
    "for i in range(4):\n",
    "    print(i)"
   ]
  },
  {
   "cell_type": "markdown",
   "id": "11c854d1-6027-47b6-8039-d49be8ff0f77",
   "metadata": {},
   "source": [
    "#### Problem. \n",
    "Find if all characters in a given protein sequence are valid amino acids."
   ]
  },
  {
   "cell_type": "code",
   "execution_count": 182,
   "id": "37f566a5-1eab-478a-bb1b-c94eebd94cb3",
   "metadata": {},
   "outputs": [
    {
     "name": "stdout",
     "output_type": "stream",
     "text": [
      "protein contain invalind amino acid U at postion 8\n",
      "protein contain invalind amino acid U at postion 9\n",
      "protein contain invalind amino acid J at postion 20\n"
     ]
    }
   ],
   "source": [
    "protein = 'SDVIHRYKUUPAKSHGWYVCJRSRFTWMVWWRFRSCRA'\n",
    "for i in range(len(protein)):\n",
    "    if protein[i] not in 'ABCDEFGHIKLMNPQRSTVWXYZ':\n",
    "        print(\"protein contain invalind amino acid %s at postion %d\" %(protein[i],i))"
   ]
  },
  {
   "cell_type": "code",
   "execution_count": null,
   "id": "cc43bebf-caee-4a50-b056-7f59a30d6082",
   "metadata": {},
   "outputs": [],
   "source": [
    "#### breaking out of loop\n",
    "protein = 'SDVIHRYKUUPAKSHGWYVCJRSRFTWMVWWRFRSCRA'\n",
    "for i in range(len(protein)):\n",
    "    if protein[i] not in 'ABCDEFGHIKLMNPQRSTVWXYZ':\n",
    "        print(\"this is not a valid protein sequnce!\")\n",
    "        break"
   ]
  },
  {
   "cell_type": "code",
   "execution_count": 184,
   "id": "89ab7822-bc32-4c12-8535-235507b97abb",
   "metadata": {},
   "outputs": [
    {
     "name": "stdout",
     "output_type": "stream",
     "text": [
      "SDVIHRYKPAKSHGWYVCRSRFTWMVWWRFRSCRA\n"
     ]
    }
   ],
   "source": [
    "# Problem.\n",
    "# Delete all invalid amino acid charactersfrom a protein sequence.\n",
    "protein = 'SDVIHRYKUUPAKSHGWYVCJRSRFTWMVWWRFRSCRA'\n",
    "correctedprotein = ''\n",
    "for i in range(len(protein)):\n",
    "    if protein[i] not in 'ABCDEFGHIKLMNPQRSTVWXYZ':\n",
    "        continue\n",
    "    correctedprotein = correctedprotein + protein[i]\n",
    "print(correctedprotein)"
   ]
  },
  {
   "cell_type": "code",
   "execution_count": null,
   "id": "aa1aed0e-69c7-4953-9ca1-9d08d8063c54",
   "metadata": {},
   "outputs": [],
   "source": [
    "# Python use\n",
    "# 10min video 4 module 2"
   ]
  },
  {
   "cell_type": "code",
   "execution_count": null,
   "id": "8c25a7c7-754b-4038-94c4-c97c2baba835",
   "metadata": {},
   "outputs": [],
   "source": []
  },
  {
   "cell_type": "code",
   "execution_count": null,
   "id": "6268475a-1afd-406b-852b-7075a47021b2",
   "metadata": {},
   "outputs": [],
   "source": []
  },
  {
   "cell_type": "markdown",
   "id": "7fe39ce9-8462-457c-bc4e-3468ae5c0859",
   "metadata": {},
   "source": [
    "## Lecutre 4 quiz"
   ]
  },
  {
   "cell_type": "code",
   "execution_count": null,
   "id": "36e2e139-679c-449c-9a00-e7fd263cb65d",
   "metadata": {},
   "outputs": [],
   "source": []
  },
  {
   "cell_type": "markdown",
   "id": "a9c4d58f-6171-49f6-9335-c33b669ab96d",
   "metadata": {
    "jp-MarkdownHeadingCollapsed": true
   },
   "source": [
    "# Module 3"
   ]
  },
  {
   "cell_type": "markdown",
   "id": "8a89f4d8-080d-4ef5-9093-5b8998e1ec67",
   "metadata": {},
   "source": [
    "# Module 4"
   ]
  }
 ],
 "metadata": {
  "kernelspec": {
   "display_name": "Python 3 (ipykernel)",
   "language": "python",
   "name": "python3"
  },
  "language_info": {
   "codemirror_mode": {
    "name": "ipython",
    "version": 3
   },
   "file_extension": ".py",
   "mimetype": "text/x-python",
   "name": "python",
   "nbconvert_exporter": "python",
   "pygments_lexer": "ipython3",
   "version": "3.12.4"
  }
 },
 "nbformat": 4,
 "nbformat_minor": 5
}

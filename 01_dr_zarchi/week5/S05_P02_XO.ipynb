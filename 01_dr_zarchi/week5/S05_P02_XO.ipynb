{
 "cells": [
  {
   "cell_type": "markdown",
   "id": "c13e9d5d-f28a-45ff-8ee0-245035771999",
   "metadata": {},
   "source": [
    "# learning array and list"
   ]
  },
  {
   "cell_type": "code",
   "execution_count": 2,
   "id": "2f3a2ebb-fba9-4204-ac9a-c2d20ead5c2c",
   "metadata": {},
   "outputs": [
    {
     "name": "stdout",
     "output_type": "stream",
     "text": [
      "[0, 0, 0]\n",
      "[0, 0, 0]\n"
     ]
    }
   ],
   "source": [
    "A = [0] * 3\n",
    "print(A)\n",
    "A2 = [0, 0, 0]\n",
    "print(A2)"
   ]
  },
  {
   "cell_type": "markdown",
   "id": "2fb7d3fe-37a1-4849-9322-87eeb9f49f19",
   "metadata": {},
   "source": [
    "# how to make 2D array"
   ]
  },
  {
   "cell_type": "code",
   "execution_count": 1,
   "id": "da6829c9-04b8-478d-a535-9b8138907367",
   "metadata": {},
   "outputs": [
    {
     "name": "stdout",
     "output_type": "stream",
     "text": [
      "[[0, 0, 0], [0, 0, 0], [0, 0, 0]]\n"
     ]
    }
   ],
   "source": [
    "A = [[0] * 3 for i in range(3)]\n",
    "print(A)\n",
    "A2 = [[0, 0, 0], [0, 0, 0], [0, 0, 0]]"
   ]
  },
  {
   "cell_type": "markdown",
   "id": "9f0457bc-8a22-4abb-8d83-78262a416249",
   "metadata": {},
   "source": [
    "# make an 2D array with list comprehnstion 5 row and 7 column"
   ]
  },
  {
   "cell_type": "code",
   "execution_count": 5,
   "id": "5716fd17-83ac-48c0-abde-da967efefbd0",
   "metadata": {},
   "outputs": [
    {
     "name": "stdout",
     "output_type": "stream",
     "text": [
      "[[0, 0, 0, 0, 0, 0, 0], [0, 0, 0, 0, 0, 0, 0], [0, 0, 0, 0, 0, 0, 0], [0, 0, 0, 0, 0, 0, 0], [0, 0, 0, 0, 0, 0, 0]]\n"
     ]
    }
   ],
   "source": [
    "A = [[0] * 7 for i in range(5)]\n",
    "print(A)"
   ]
  }
 ],
 "metadata": {
  "kernelspec": {
   "display_name": "Python 3 (ipykernel)",
   "language": "python",
   "name": "python3"
  },
  "language_info": {
   "codemirror_mode": {
    "name": "ipython",
    "version": 3
   },
   "file_extension": ".py",
   "mimetype": "text/x-python",
   "name": "python",
   "nbconvert_exporter": "python",
   "pygments_lexer": "ipython3",
   "version": "3.12.4"
  }
 },
 "nbformat": 4,
 "nbformat_minor": 5
}
